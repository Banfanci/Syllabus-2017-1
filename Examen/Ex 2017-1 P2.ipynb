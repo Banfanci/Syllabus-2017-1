{
 "cells": [
  {
   "cell_type": "markdown",
   "metadata": {},
   "source": [
    "**(30 pts).** Considere la siguiente estructura de datos para un grafo **dirigido** que representa a los miembros de una red social (nodos) y la relación *sigue a* (aristas dirigidas) entre miembros de la red.\n",
    "\n",
    "Cada miembro *m* posee una dirección IP donde se encuentra ejecutando, y posee un muro donde se muestran los mensajes de todos los contactos de *m*. Para comunicarse con otro miembro debe mandarse un mensaje a su dirección IP."
   ]
  },
  {
   "cell_type": "code",
   "execution_count": 1,
   "metadata": {
    "collapsed": true
   },
   "outputs": [],
   "source": [
    "class Miembro:\n",
    "    \n",
    "    def __init__(self, nombre, host):\n",
    "        self.nombre = nombre\n",
    "        self.ip = ip\n",
    "        self.contactos = []\n",
    "        self.muro = []\n",
    "        self.estado = \"\"\n",
    "        \n",
    "    def agregar_contacto(self, miembro):\n",
    "        self.contactos.append(miembro)\n",
    "        \n",
    "    def __repr__(self):\n",
    "        return self.nombre + \" -> (\" + \",\".join(\n",
    "            [c.nombre for c in self.contactos]) + \")\""
   ]
  },
  {
   "cell_type": "markdown",
   "metadata": {},
   "source": [
    "## (a)\n",
    "**(10 pts)** Escriba una función `recomendar(m)` que reciba como parámetro un objeto `m` de la clase `Miembro`, y retorna una lista de contactos para recomendar a ese miembro. Los contactos a recomendar para un miembro *m* son aquellos miembros que son seguidos por los contactos de *m*, pero a los cuales *m* no sigue. **Solo para esta parte** asuma que toda la información de los contactos de cada miembro se encuentra disponible en la estructura de datos; esto significa que no necesita enviar mensajes por la red.\n",
    "\n",
    "**Respuesta:**\n",
    "\n",
    "- Con funcional:"
   ]
  },
  {
   "cell_type": "code",
   "execution_count": 2,
   "metadata": {
    "collapsed": true
   },
   "outputs": [],
   "source": [
    "from functools import reduce\n",
    "\n",
    "def recomendar(m):\n",
    "    return list(set(reduce(lambda x, y: x + y,\n",
    "                           filter(lambda ct: ct != m,\n",
    "                                  map(lambda c: c.contactos,\n",
    "                                      m.contactos)))))"
   ]
  },
  {
   "cell_type": "markdown",
   "metadata": {},
   "source": [
    "- Sin funcional:"
   ]
  },
  {
   "cell_type": "code",
   "execution_count": 3,
   "metadata": {
    "collapsed": true
   },
   "outputs": [],
   "source": [
    "def recomendar(m):\n",
    "    # Obtener contactos de los contactos. Evitando que sea el mismo nodo (m)\n",
    "    posibles_recomendados = []\n",
    "    for contacto in m.contactos:\n",
    "        for i in contacto.contactos\n",
    "            if contacto != m:\n",
    "                posibles_recomendados.append(contacto)\n",
    "    # Eliminar repetidos - se pudo haber evitado antes.\n",
    "    # Se puede hacer con el uso de sets:\n",
    "    recomendados = list(set(posibles_recomendados))\n",
    "    # Retornar la lista con los contactos (objetos)\n",
    "    return recomendado\n",
    "    "
   ]
  },
  {
   "cell_type": "markdown",
   "metadata": {},
   "source": [
    "**Distribución de puntaje:**\n",
    "\n",
    "| Puntos | Objetivo |\n",
    "| -----: | :------- |\n",
    "|      2 | Obtener contactos de los contactos de `m` |\n",
    "|      2 | Filtrar los contactos iguales a `m` |\n",
    "|      2 | Obtener los posibles recomendados filtrados |\n",
    "|      2 | Eliminar repetidos |\n",
    "|      1 | Retornar una **lista** |\n",
    "|      1 | Retornar la lista con los objetos **Miembro** |"
   ]
  },
  {
   "cell_type": "markdown",
   "metadata": {},
   "source": [
    "## (b)\n",
    "**(10 pts)** Explique cómo conectaría los miembros de esta red social. Describa todos los métodos que le faltan a `Miembro` para poder conectarse con la red.\n",
    "\n",
    "**Respuesta:**\n",
    "\n",
    "Existen dos modelaciones correctas:\n",
    "\n",
    "Para cualquiera de las dos, es necesario decir que la conexión tiene que ser TCP. \n",
    "\n",
    "1) Cada miembro actúa de servidor y cliente al mismo tiempo\n",
    "\n",
    "- Método para conectarse.\n",
    " - Crear los sockets (uno para el servidor, otro para el cliente).\n",
    " - Conectarse\n",
    " - Permitir enlaces (bind y listen)\n",
    " - Thread para aceptar conexion.\n",
    "- Método para aceptar conexiones.\n",
    " - Crear el thread para escuchar, para cada cliente conectado.\n",
    "- Método para recibir datos.\n",
    " - Recibir los datos.\n",
    " - Deserealizar los datos.\n",
    " - Protocolo.\n",
    "\n",
    "\n",
    "**Distribución de puntaje:**\n",
    "\n",
    "| Puntos | Objetivo |\n",
    "| -----: | :------- |\n",
    "|    2.0 | Especificar que hay que usar sockets para el cliente y el servidor |\n",
    "|    1.0 | Permitir que Miembros se enlacen a otro |\n",
    "|    1.0 | Permitir conexion a los servidores |\n",
    "|    1.5 | Especificar que se necesita un thread para permitir conexiones y crear thread que lo escuche |\n",
    "|    1.5 | Especificar que se necesita un thread que este escuchando constantemente |\n",
    "|    3.0 | Por explicitar que se necesita un mecanismo para trabajar los datos recibidos |\n",
    "\n",
    "\n",
    "2) Existe un servidor único y éste realiza las conexiones entre los miembros (clientes).\n",
    "\n",
    "Los métodos necesarios son los siguientes:\n",
    "\n",
    "- Método para conectarse.\n",
    " - Crear el socket. \n",
    " - Conectarse.\n",
    " - Crear el thread para escuchar.\n",
    "- Método para recibir datos.\n",
    " - Recibir los datos.\n",
    " - Deserealizar los datos.\n",
    " - Protocolo.\n",
    "\n",
    "\n",
    "**Distribución de puntaje:**\n",
    "\n",
    "| Puntos | Objetivo |\n",
    "| -----: | :------- |\n",
    "|    2.5 | Especificar que hay que usar sockets para el cliente |\n",
    "|    1.5 | Conectarse a un servidor TCP |\n",
    "|    3.0 | Especificar que se necesita un thread que este escuchando constantemente |\n",
    "|    3.0 | Por explicitar que se necesita un mecanismo para trabajar los datos recibidos |"
   ]
  },
  {
   "cell_type": "markdown",
   "metadata": {},
   "source": [
    "## (c)\n",
    "**(10 pts)** Describa el funcionamiento de un *thread* que permite publicar mensajes de estado. Cuando *m* publica un mensaje de estado, éste debe aparecer en los muros de aquellos miembros que tienen a *m* como contacto. Describa qué elementos incluiría en un mensaje y como manejaría el hecho que el muro puede recibir mútiples mensajes simultáneamente de distintos miembros.\n",
    "\n",
    "**Respuesta:**\n",
    "\n",
    "Se necesita:\n",
    "\n",
    "- Un thread para enviar el mensaje.\n",
    " - Cómo serializar mensaje.\n",
    " - Enviar a cada cliente (dependiendo de la modelación).\n",
    "- Cada cliente tiene un muro, el cual posee un Lock.\n",
    "\n",
    "| Puntos | Objetivo |\n",
    "| -----: | :------- |\n",
    "|    2.5 | Especificar cómo serializar el mensaje |\n",
    "|    2.5 | Especificar cómo se envía a cada cliente |\n",
    "|    5.0 | Especificar que se necesita un lock que maneje la concurrencia |\n"
   ]
  }
 ],
 "metadata": {
  "kernelspec": {
   "display_name": "Python 3",
   "language": "python",
   "name": "python3"
  },
  "language_info": {
   "codemirror_mode": {
    "name": "ipython",
    "version": 3
   },
   "file_extension": ".py",
   "mimetype": "text/x-python",
   "name": "python",
   "nbconvert_exporter": "python",
   "pygments_lexer": "ipython3",
   "version": "3.5.1"
  }
 },
 "nbformat": 4,
 "nbformat_minor": 2
}
