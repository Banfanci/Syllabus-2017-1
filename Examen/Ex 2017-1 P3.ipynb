{
 "cells": [
  {
   "cell_type": "markdown",
   "metadata": {},
   "source": [
    "## (a)\n",
    "**(15 pts)** Indique qué imprime al finalizar el siguiente código:"
   ]
  },
  {
   "cell_type": "code",
   "execution_count": 2,
   "metadata": {},
   "outputs": [
    {
     "name": "stdout",
     "output_type": "stream",
     "text": [
      "<u>Este</u><u>mensaje</u><u>incluye</u><u><b>4</b></u><u>espacios</u>\n"
     ]
    }
   ],
   "source": [
    "import re\n",
    "\n",
    "\n",
    "def aplicar_a(fn):\n",
    "    def _aplicar_a(msg):\n",
    "        l = re.split('(<[^>]+>)', fn(msg))\n",
    "        l = [\n",
    "             '<b>{}</b>'.format(e) \\\n",
    "                    if re.match('[0-9]', e) else e for e in l\n",
    "            ]\n",
    "        return ''.join(l)\n",
    "    return _aplicar_a\n",
    "\n",
    "\n",
    "def aplicar_b(arg):\n",
    "    def _aplicar_b(fn):\n",
    "        def __aplicar_b(msg):\n",
    "            b = [\"<{0}>{1}</{0}>\".format(arg, fn(a)) for a in msg.split()]\n",
    "            return \"\".join(b)\n",
    "        return __aplicar_b\n",
    "    return _aplicar_b\n",
    "\n",
    "\n",
    "@aplicar_a\n",
    "@aplicar_b(\"u\")\n",
    "def mensaje(msg):\n",
    "    return msg\n",
    "\n",
    "\n",
    "print(mensaje(\"Este mensaje incluye 4 espacios\"))"
   ]
  },
  {
   "cell_type": "markdown",
   "metadata": {},
   "source": [
    "![regex](imgs/regex_cheatsheet.png)\n",
    "Figura 1: Resumen de caracteres usados en regex.\n",
    "\n",
    "**Respuesta:**\n",
    "- 15 puntos directamente si se imprime `<u>Este</u><u>mensaje</u><u>incluye</u><u><b>4</b></u><u>espacios</u>`\n",
    "    - 6 puntos por aplicar correctamente `aplicar_a`\n",
    "        - 2 puntos por aplicar `re.split`\n",
    "        - 2 puntos por aplicar `re.match`\n",
    "        - 2 puntos por aplicar `''.join(l)`\n",
    "    - 6 puntos por aplicar correctamente `aplicar_b`\n",
    "        - 2 puntos por considerar el parámetro `arg`\n",
    "        - 2 puntos por aplicar `format` correctamente\n",
    "        - 2 puntos por aplicar `\"\".join(b)`\n",
    "    - 3 puntos por aplicar o explicar correctamente el orden de ejecución de los decoradores"
   ]
  },
  {
   "cell_type": "markdown",
   "metadata": {},
   "source": [
    "## (b)\n",
    "**(5 pts)** En el siguiente código, ¿qué clase corresponde a un iterable y cuál corresponde a un iterador? Justifique. "
   ]
  },
  {
   "cell_type": "code",
   "execution_count": 3,
   "metadata": {
    "collapsed": true
   },
   "outputs": [],
   "source": [
    "class ClassX:\n",
    "    \n",
    "    def __init__(self, objet):\n",
    "        self.objet = objet\n",
    "    \n",
    "    def __iter__(self):\n",
    "        return ClassY(self.objet)\n",
    "\n",
    "    \n",
    "class ClassY:\n",
    "    \n",
    "    def __init__(self, data):\n",
    "        self.data = data\n",
    "    \n",
    "    def __iter__(self): \n",
    "        return self\n",
    "    \n",
    "    def __next__(self):\n",
    "        if self.data is None:\n",
    "            raise StopIteration(\"The End\")\n",
    "        else:           \n",
    "            current = self.data\n",
    "            self.data = self.data.f\n",
    "            return current"
   ]
  },
  {
   "cell_type": "markdown",
   "metadata": {},
   "source": [
    "**Respuesta:**\n",
    "\n",
    "- `ClassX` corresponde a un iterable porque tiene definido `__iter__` para retornar un iterador (2 pts).\n",
    "- `ClassY` correspone al iterador de `ClassX` al tener definido el método `__next__` para entregar el siguiente elemento (2 pts), y es también un iterador sobre sí mismo porque tiene definido `__iter__` que retorna `self` (1 pto)."
   ]
  },
  {
   "cell_type": "markdown",
   "metadata": {},
   "source": [
    "## (c)\n",
    "**(5 pts)** De acuerdo al siguiente código, ¿qué ocurrirá al ejecutar el `__init__` de un clase que tiene como metaclase a `MetaObject`? Explique línea por línea."
   ]
  },
  {
   "cell_type": "code",
   "execution_count": 4,
   "metadata": {
    "collapsed": true
   },
   "outputs": [],
   "source": [
    "import random\n",
    "\n",
    "class MetaObject(type):\n",
    "    \n",
    "    def __new__(meta, name, bases, attrs):\n",
    "        o_ = attrs['__init__']\n",
    "\n",
    "        def n_(self, *args, **kwargs):\n",
    "            self.id_ = random.randint(25, 65)\n",
    "            o_(self,args, kwargs)\n",
    "            \n",
    "        attrs['__init__'] = n_\n",
    "        attrs['instances'] = {}\n",
    "\n",
    "        return super().__new__(meta, name, bases, attrs)\n",
    "\n",
    "    def __call__(cls, *args, **kwargs):\n",
    "        if args in cls.instances:\n",
    "            return None\n",
    "        else:\n",
    "            obj = super().__call__(*args, **kwargs)\n",
    "            cls.instances[args] = obj\n",
    "            return obj"
   ]
  },
  {
   "cell_type": "markdown",
   "metadata": {},
   "source": [
    "**Respuesta:**\n",
    "- 3 puntos por explicar la ejecución del método `n_` correctamente. (Se determina `id_` de forma aleatoria).\n",
    "- 2 puntos por explicar que el `__init__` original de la clase se ejecuta al final.\n",
    "- -2 puntos por sugerir que el objeto está siendo creado en `__init__` o que se ejecuta necesariamente `__new__` de la metaclase."
   ]
  },
  {
   "cell_type": "markdown",
   "metadata": {},
   "source": [
    "## (d)\n",
    "**(5 pts)** De acuerdo al código de la pregunta anterior, ¿qué ocurrirá al crear un objeto de una clase que tiene como metaclase a `MetaObject`?"
   ]
  },
  {
   "cell_type": "markdown",
   "metadata": {},
   "source": [
    "**Respuesta:**\n",
    "\n",
    "- 1 punto por mencionar que se ejecuta el `__call__` de la metaclase.\n",
    "- 3 puntos por explicar correctamente la creación del objeto de forma condicional a los argumentos entregados.\n",
    "- 1 punto por mencionar que se ejecuta el `__init__` al final.\n"
   ]
  },
  {
   "cell_type": "markdown",
   "metadata": {},
   "source": [
    "## (e)\n",
    "**(5 pts)** Indique qué imprime el siguiente código."
   ]
  },
  {
   "cell_type": "code",
   "execution_count": 2,
   "metadata": {},
   "outputs": [
    {
     "name": "stdout",
     "output_type": "stream",
     "text": [
      "Primera parte - f2\n",
      "Segunda parte - f2\n",
      "Primera parte - f1\n",
      "Segunda parte - f1\n"
     ]
    }
   ],
   "source": [
    "import threading\n",
    "import time\n",
    "\n",
    "\n",
    "def f1(lock1, lock2):\n",
    "    with lock1:\n",
    "         print('Primera parte - f1')\n",
    "         time.sleep(10)\n",
    "    with lock2:\n",
    "         print('Segunda parte - f1')\n",
    "         time.sleep(5)\n",
    "\n",
    "def f2(lock1, lock2):\n",
    "    with lock2:\n",
    "         print('Primera parte - f2')\n",
    "         time.sleep(10)\n",
    "    with lock1:\n",
    "         print('Segunda parte - f2')\n",
    "         time.sleep(5)\n",
    "\n",
    "a_lock = threading.Lock()\n",
    "b_lock = threading.Lock()\n",
    "\n",
    "t1 = threading.Thread(target=f1, args=(a_lock, b_lock))\n",
    "t2 = threading.Thread(target=f2, args=(b_lock, a_lock))\n",
    "t2.start()\n",
    "t1.start()"
   ]
  },
  {
   "cell_type": "markdown",
   "metadata": {
    "collapsed": true
   },
   "source": [
    "**Respuesta:** 1.25 pts por cada línea en su posición correcta. Cabe mencionar que la segunda y la tercera línea pueden estar intercambiadas."
   ]
  }
 ],
 "metadata": {
  "kernelspec": {
   "display_name": "Python 3",
   "language": "python",
   "name": "python3"
  },
  "language_info": {
   "codemirror_mode": {
    "name": "ipython",
    "version": 3
   },
   "file_extension": ".py",
   "mimetype": "text/x-python",
   "name": "python",
   "nbconvert_exporter": "python",
   "pygments_lexer": "ipython3",
   "version": "3.6.1"
  }
 },
 "nbformat": 4,
 "nbformat_minor": 2
}
