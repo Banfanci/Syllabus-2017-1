{
 "cells": [
  {
   "cell_type": "markdown",
   "metadata": {},
   "source": [
    "# Pregunta 4\n",
    "**(10 pts)** En no más de diez líneas, responda solo **CINCO** de las siguientes preguntas (2 puntos cada pregunta). En caso de que conteste más preguntas, **SOLO** serán corregidas las primeras 5 respuestas que se encuentren en su hoja de respuesta. Sea breve y conciso."
   ]
  },
  {
   "cell_type": "markdown",
   "metadata": {},
   "source": [
    "## (a)\n",
    "¿Qué uso tiene el argumento `object hook` durante la deserialización de un objeto JSON?\n",
    "\n",
    "**Respuesta:** Intervenir la deserialización con una función entregada que recibe al objeto deserializado completo (2 pts)."
   ]
  },
  {
   "cell_type": "markdown",
   "metadata": {},
   "source": [
    "## (b)\n",
    "¿Cuál es la salida del siguiente código?"
   ]
  },
  {
   "cell_type": "code",
   "execution_count": 1,
   "metadata": {
    "collapsed": true
   },
   "outputs": [],
   "source": [
    "from functools import reduce"
   ]
  },
  {
   "cell_type": "code",
   "execution_count": 2,
   "metadata": {},
   "outputs": [
    {
     "name": "stdout",
     "output_type": "stream",
     "text": [
      "3\n"
     ]
    }
   ],
   "source": [
    "a = ['K1', 'K2', 'K3']\n",
    "b = ['124', '45', '4']\n",
    "l = {k: v for k, v in zip(a,b)}\n",
    "m = dict(map(lambda k: (k[0], len(k[1])), l.items()))\n",
    "n = reduce(lambda x, y: x + y, list(filter(lambda x: x > 2, m.values())))\n",
    "print(n)"
   ]
  },
  {
   "cell_type": "markdown",
   "metadata": {},
   "source": [
    "**Respuesta:** 2 puntos por escribir \"3\". 1 punto por calcular mal (pero mostrando qué se entiende lo que pasa) `m` o `n`."
   ]
  },
  {
   "cell_type": "markdown",
   "metadata": {},
   "source": [
    "## (c)\n",
    "¿Para qué son utilizados los *context managers* en Python y de qué forma es posible personalizarlos en una clase cualquiera?\n",
    "\n",
    "**Respuesta:** Los *context managers* son utilizado para asegurarse que un objeto ejecute un código previo y posterior a su uso (1 pto) y se pueden personalizar implementando en una clase los métodos `__enter__` y `__exit__` (1 pto)."
   ]
  },
  {
   "cell_type": "markdown",
   "metadata": {},
   "source": [
    "## (d)\n",
    "En unittest, ¿cuál es la diferencia entre `setUp` y `tearDown`?\n",
    "\n",
    "**Respuesta:** `setUp` prepara el caso a testear inicializando variables de mucho uso, abriendo archivos, etc. (1 pto). `tearDown` se encarga de restaurar todo a la normalidad después de aplicar un test, es decir, de cerrar archivos, borrar archivos generados, terminar alguna sesión, etc. (1 pto)."
   ]
  },
  {
   "cell_type": "markdown",
   "metadata": {},
   "source": [
    "## (e)\n",
    "Explique la diferencia entre `re.search` y `re.match`.\n",
    "\n",
    "**Respuesta:** `re.search` determina la presencia de la expresión entregada dentro del string (1 pto). `re.match` indica si el texto coincide completamente con el patrón entregado (1 pto)."
   ]
  },
  {
   "cell_type": "markdown",
   "metadata": {},
   "source": [
    "## (f)\n",
    "Explique por qué no es bueno capturar excepciones sin explicitar el tipo de excepción.\n",
    "\n",
    "**Respuesta:** 2 puntos por alguna de las siguientes respuestas:\n",
    "\n",
    "- Se pueden capturar excepciones desconocidas y no actuar acorde a esa situación.\n",
    "- Se ocultan errores de código\n",
    "- No se puede actuar de forma distinta de acuerdo a la excepción levantada."
   ]
  },
  {
   "cell_type": "markdown",
   "metadata": {},
   "source": [
    "## (g)\n",
    "¿Cuáles son las ventajas y desventajas de serializar con `pickle`?\n",
    "\n",
    "**Respuestas:** 1 punto por cada ventaja o desventaja (hasta 2).\n",
    "\n",
    "- Se puede serializar cualquier tipo de objeto.\n",
    "- No agnóstico del lenguaje de programación."
   ]
  },
  {
   "cell_type": "markdown",
   "metadata": {},
   "source": [
    "## (h)\n",
    "¿Por qué es útil hacer la diferencia entre *backend* y *frontend*?\n",
    "\n",
    "**Respuesta:** 2 puntos por alguna de las siguientes respuestas:\n",
    "\n",
    "- Permite cambiar la interfaz de un programa o su lógica fácilmente.\n",
    "- Permite programar sin preocuparse de cómo se vea o viceversa.\n",
    "- Permite separar el trabajo de interfaz con el de lógica del programa (especialización)."
   ]
  },
  {
   "cell_type": "markdown",
   "metadata": {},
   "source": [
    "## (i)\n",
    "¿Qué es *ducktyping*?\n",
    "\n",
    "**Respuesta:** 2 puntos por usar alguna de estas respuestas válidas. 0 puntos por confundir con polimorifsmo.\n",
    "\n",
    "- Polimorfismo sin usar herencia\n",
    "- Cuando clases distintas sin relación de herencia comparten métodos con los mismos nombres."
   ]
  }
 ],
 "metadata": {
  "kernelspec": {
   "display_name": "Python 3",
   "language": "python",
   "name": "python3"
  },
  "language_info": {
   "codemirror_mode": {
    "name": "ipython",
    "version": 3
   },
   "file_extension": ".py",
   "mimetype": "text/x-python",
   "name": "python",
   "nbconvert_exporter": "python",
   "pygments_lexer": "ipython3",
   "version": "3.6.1"
  }
 },
 "nbformat": 4,
 "nbformat_minor": 2
}
