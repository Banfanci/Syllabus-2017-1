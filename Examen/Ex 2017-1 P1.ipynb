{
 "cells": [
  {
   "cell_type": "markdown",
   "metadata": {},
   "source": [
    "- Una declaración de clases y métodos corresponde a"
   ]
  },
  {
   "cell_type": "code",
   "execution_count": 19,
   "metadata": {
    "collapsed": true
   },
   "outputs": [],
   "source": [
    "class A:\n",
    "    \n",
    "    def __init__(self, param1):\n",
    "        self.param1 = param1\n",
    "    \n",
    "    def metodo_1(self, param2):\n",
    "        # param2: corresponde a Y\n",
    "        # return: el resultado de hacer multiplicar self.param1 y param2\n",
    "        # Entrega la multiplicacion entre self.param1 y param2\n",
    "        pass"
   ]
  },
  {
   "cell_type": "markdown",
   "metadata": {},
   "source": [
    "- La descripción del flujo de un método es una explicación detallada de lo que hace el método. Por ejemplo, para el siguiente método:"
   ]
  },
  {
   "cell_type": "code",
   "execution_count": 9,
   "metadata": {
    "collapsed": true
   },
   "outputs": [],
   "source": [
    "def multiplicar(a, b, c):\n",
    "    aux = a * b\n",
    "    aux = aux * c\n",
    "    return aux"
   ]
  },
  {
   "cell_type": "markdown",
   "metadata": {},
   "source": [
    "Una buena descripción sería: *\"Se multiplican a y b, se guardan en una variable, luego esta se multiplica por c y se retorna ese resultado\"*. Una mala descripción sería: *\"Se multiplican a, b y c\"*."
   ]
  },
  {
   "cell_type": "markdown",
   "metadata": {},
   "source": [
    "# Pregunta 1"
   ]
  },
  {
   "cell_type": "markdown",
   "metadata": {},
   "source": [
    "**(45 pts)** El refugio de animales XX recibe perros y gatos abandonados, los cuidan y les buscan hogares temporales hasta que encuentren hogar definitivo. Esta fundación necesita saber cuántas horas de voluntarios de cada tipo necesita en cada horario, calcular la cantidad de comida para gatos y perros, y calcular cuánto dinero para veterinario y sicólogo necesitará por mes.\n",
    "\n",
    "A la única sede que tienen llega en promedio un animal cada 24 horas. Todos los animales que llegan se aceptan. La probabilidad de que sea perro es de 70% y de que sea gato un 30%. La edad del animal distribuye  normal con media 23 meses y desviación estándar 5 meses. El tamaño también distribuye normal con media 10 kgs y desviación estándar 4 kg. Cuando el animal llega, debe quedar aislado del resto de los animales hasta que sea revisado por el veterinario. Durante ese período solo puede dejar su jaula para hacer sus necesidades 3 veces al día y para jugar tres horas con un voluntario.\n",
    "\n",
    "El veterinario va como mínimo una vez a la semana y cada vez que hay 10 animales nuevos. Él revisa a todos los animales nuevos y a los antiguos que pueden estar enfermos. Existe un 30% de probabilidad de que un animal revisado por el veterinario esté enfermo y un 20% de probabilidad que un animal nuevo sea no sociable. Si un animal está enfermo, el veterinario ordena su traslado a la clínica veterinaria hasta que este se recupere. La cantidad de días la determina el veterinario y puede ser entre 3 y 10. Cada día en la clínica veterinaria cuesta \\$25.000, lo que incluye remedios, comida y cuidados. Si el animal está sano, comienza a realizar la rutina de los otros animales del refugio. Por cada animal que revisa el veterinario se pagan \\$10.000.\n",
    "\n",
    "Hay dos tipos de voluntarios: novatos y expertos. Los expertos son los únicos que evalúan diariamente a los animales y entrenan a los animales no sociables. Durante la noche debe haber un voluntario experto por cada 30 animales y un no-experto por cada 15 animales. Todos los voluntarios son padrinos de uno a cinco animales. Un animal puede tener más de un padrino y como mínimo debe tener uno.\n",
    "\n",
    "Cada animal come entre 100 y 200 gramos de alimento al día. Esta cantidad se determina cuando el animal llega al refugio y depende de la edad y el tamaño. Un voluntario se demora 2 minutos en servirle comida a un animal.\n",
    "\n",
    "Los animales tienen una rutina:\n",
    "\n",
    "1. entre las 7 y las 8 se les sirve el desayuno. \n",
    "2. entre las 9 y las 11 los voluntarios realizan las evaluaciones individuales. Si el animal no pasa la evaluación se debe agregar a la lista para que sea evaluado por un veterinario y debe seguir el mismo protocolo que el de un animal que acaba de llegar. Cada evaluación demora 5 minutos.\n",
    "3. entre las 11 y las 19 hrs los animales más sociables se dejan salir al sector común. Aquí debe haber un voluntario cada 5 animales supervisando que los animales no tengan problemas. Existe una probabilidad de un 2% que dos animales al azar peleen durante este tiempo. Esos animales se encierran y deben ser entrenados una hora por voluntarios expertos el día siguiente para poder volver al área común. Los menos sociables se deben entrenar durante este horario. Los voluntarios más expertos deben entrenar individualmente por 3 hrs a estos animales.\n",
    "4. Se sirve el almuerzo entre las 13 y 14 hrs en el sector común para los animales sociables y en sus jaulas para los animales no sociables. \n",
    "5. Entre las 19 y 20 hrs se sirve la última comida del día en la jaula de cada animal. \n",
    "6. Desde las 20 hrs, el veterinario o el sicólogo revisa a los animales que lo necesiten.\n",
    "\n",
    "Los animales que no son sociables se evalúan una vez al mes para ver sus avances en sociabilización. Esta evaluación la realiza un sicólogo de animales. Cada evaluación cuesta \\$30.000. Un animal tiene una probabilidad de ser evaluado como sociable de 40%. Por cada 10 horas de entrenamiento esta probabilidad aumenta en 1.\n",
    "\n",
    "La fundación le ha pedido a usted realizar una simulación para poder organizarse mejor, según los objetivos descritos en el primer párrafo.\n",
    "\n"
   ]
  },
  {
   "cell_type": "markdown",
   "metadata": {},
   "source": [
    "## (a)\n",
    "**(15 pts)** Construya el diagrama de clases `UML` que modela este problema. Indique claramente las clases y las relaciones entre estas (composición, agregación y herencia) y los métodos y atributos que estime conveniente. En caso que no sea claro cuál de las relaciones existe entre dos clases, justifique su respuesta (en una línea es suficiente). Realice los supuestos que crea necesarios. \n",
    "Recuerde que los símbolos en UML son:\n",
    "![uml](imgs/uml.png)\n",
    "\n",
    "**Respuesta:** Esto es lo mínimo requerido para el diagrama de clases. Cada clase tiene 3 puntos.\n",
    "![diagrama](imgs/diagrama.png)\n",
    "\n",
    "Variaciones aceptadas al diagrama son:\n",
    "- Que existan las clases `Gato` y `Perro` que hereden de `Animal` con una justificación de qué los distingue funcionalmente.\n",
    "- Que los humanos hereden de una clase `Humano` común o de `ProfesionalSalud` en el caso de `Veterinario` y `Sicólogo`.\n",
    "- Que exista una clase `Refugio` o `Fundación` que esté compuesta de lo demás.\n",
    "- Que `Animal` tenga una relación de agregación padrinos de `Voluntario`."
   ]
  },
  {
   "cell_type": "markdown",
   "metadata": {},
   "source": [
    "## (b)\n",
    "**(10 pts)** Escriba la declaración de clases y métodos según el diagrama realizado en (a). Los atributos de cada clase deben estar declarados en el método `__init__` de la clase. No olvide ser coherente con el diagrama de clases que realizó en (a).\n",
    "\n",
    "**Respuesta:** Cada clase tiene 2 puntos. Se esperan descripciones de los métodos, atributos en el `__init__` y lo necesario para heredar de `Voluntario`."
   ]
  },
  {
   "cell_type": "code",
   "execution_count": 20,
   "metadata": {
    "collapsed": true
   },
   "outputs": [],
   "source": [
    "class Animal:\n",
    "    \n",
    "    def __init__(self, especie, edad, peso, sociable, comida):\n",
    "        self.especie = especie\n",
    "        self.edad = edad\n",
    "        self.peso = peso\n",
    "        self.sociable = sociable\n",
    "        self.comida = comida\n",
    "\n",
    "    def comer(self):\n",
    "        pass\n",
    "\n",
    "    def jugar(self):\n",
    "        pass\n",
    "\n",
    "    def pelear(self, contrincante):\n",
    "        pass\n",
    "    \n",
    "\n",
    "class Voluntario:\n",
    "    \n",
    "    def __init__(self, apadrinados):\n",
    "        self.apadrinados = list()\n",
    "\n",
    "    def alimentar(self, animal):\n",
    "        pass\n",
    "\n",
    "\n",
    "class VoluntarioExperto(Voluntario):\n",
    "    \n",
    "    def __init__(self, *args, **kwargs):\n",
    "        super().__init__(*args, **kwargs)\n",
    "\n",
    "    def entrenar_no_sociable(self, animal):\n",
    "        pass\n",
    "\n",
    "    def evaluar(self, animal):\n",
    "        pass\n",
    "\n",
    "    def entrenar_castigado(self, animal):\n",
    "        pass\n",
    "\n",
    "    def recibir(self, animal):\n",
    "        pass\n",
    "    \n",
    "\n",
    "class Veterinario:\n",
    "    \n",
    "    def __init__(self):\n",
    "        pass\n",
    "\n",
    "    def revisar(self, animal):\n",
    "        pass\n",
    "\n",
    "\n",
    "class Sicologo:\n",
    "    \n",
    "    def __init__(self):\n",
    "        pass\n",
    "\n",
    "    def evaluar(self, animal):\n",
    "        pass"
   ]
  },
  {
   "cell_type": "markdown",
   "metadata": {},
   "source": [
    "## (c)\n",
    "**(5 pts)** ¿Cuáles son las estadísticas que necesitará calcular?\n",
    "\n",
    "**Respuesta:**\n",
    "> Esta fundación necesita saber cuántas horas de voluntarios de cada tipo necesita en cada horario **(1 pto)**, calcular la cantidad de comida para gatos **(1 pto)** y perros **(1 pto)**, y calcular cuánto dinero para veterinario **(1 pto)** y sicólogo necesitará por mes **(1 pto)**."
   ]
  },
  {
   "cell_type": "markdown",
   "metadata": {},
   "source": [
    "## (d)\n",
    "**(15 pts)** Seleccione 5 eventos, al menos uno relacionado con cada entidad, y escriba para cada uno: nombre descriptivo, cuándo ocurre o se gatilla, consecuencias que tiene y cómo afecta a las estadísticas que describió en la pregunta (c).\n",
    "\n",
    "**Respuesta**: Cada evento de una entidad (clase) distinta tiene 3 puntos: 1 por el nombre, 1 por cuándo ocurre o se gatilla y 1 por sus consecuencias.\n",
    "\n",
    "| Entidad | Nombre del evento | Trigger | Consecuencias (en las estadíticas) |\n",
    "| :------ | :---------------- | :------ | :--------------------------------- |\n",
    "| Animal | Llega al refugio | Cada 24 hrs. aprox. | Aumenta horas de cuidado de voluntarios y/o gastos por alimento y/o gasto por revisiones del veterinario |\n",
    "| Veterinario | Visita al refugio | 1 vez a la semana o cada 10 llegadas de animales | Aumenta gasto por veterinario  |\n",
    "| Sicólogo | Evalúa perros no sociables | 1 vez al mes | Aumenta gasto por sicólogo |\n",
    "| Voluntario experto | Evalúa animales | 1 vez al día, entre 9 y 11 | Aumenta horas de cuidado de voluntarios |\n",
    "| Voluntario | Dar comida | 3 veces al día | aumenta horas de cuidado voluntarios y/o aumenta gastos de comida |\n",
    "Si el alumno puso alguno de los otros eventos, y tienen sentido para la simulación y son consistentes con el enunciado, se les otorga el puntaje."
   ]
  },
  {
   "cell_type": "code",
   "execution_count": null,
   "metadata": {
    "collapsed": true
   },
   "outputs": [],
   "source": []
  }
 ],
 "metadata": {
  "kernelspec": {
   "display_name": "Python 3",
   "language": "python",
   "name": "python3"
  },
  "language_info": {
   "codemirror_mode": {
    "name": "ipython",
    "version": 3
   },
   "file_extension": ".py",
   "mimetype": "text/x-python",
   "name": "python",
   "nbconvert_exporter": "python",
   "pygments_lexer": "ipython3",
   "version": "3.5.2"
  }
 },
 "nbformat": 4,
 "nbformat_minor": 2
}
